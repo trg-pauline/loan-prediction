{
 "cells": [
  {
   "cell_type": "code",
   "execution_count": 1,
   "id": "541d6ea0-9d2d-4eb2-ac09-364068acf620",
   "metadata": {
    "tags": []
   },
   "outputs": [],
   "source": [
    "import os\n",
    "import boto3\n",
    "import botocore"
   ]
  },
  {
   "cell_type": "code",
   "execution_count": 2,
   "id": "36017164-7bb1-40a1-9c5f-e48075e9ce43",
   "metadata": {
    "tags": []
   },
   "outputs": [],
   "source": [
    "access_key_id = os.environ.get('AWS_ACCESS_KEY_ID')\n",
    "secret_access_key = os.environ.get('AWS_SECRET_ACCESS_KEY')\n",
    "endpoint_url = os.environ.get('AWS_S3_ENDPOINT')\n",
    "region_name = os.environ.get('AWS_DEFAULT_REGION')\n",
    "bucket_name = os.environ.get('AWS_S3_BUCKET')\n",
    "working_folder = \"../models/\"\n",
    "s3_folder = \"models/\""
   ]
  },
  {
   "cell_type": "code",
   "execution_count": 3,
   "id": "9e547a3d-0252-4e63-bf47-365c8a76754e",
   "metadata": {
    "tags": []
   },
   "outputs": [],
   "source": [
    "session = boto3.session.Session(\n",
    "    aws_access_key_id = access_key_id,\n",
    "    aws_secret_access_key = secret_access_key)\n",
    "\n",
    "s3_resource = session.resource(\n",
    "    's3',\n",
    "    config = botocore.client.Config(signature_version='s3v4'),\n",
    "    endpoint_url = endpoint_url,\n",
    "    region_name = region_name)\n",
    "\n",
    "bucket = s3_resource.Bucket(bucket_name)"
   ]
  },
  {
   "cell_type": "code",
   "execution_count": 4,
   "id": "c73aad5c-9c63-4ffc-8303-4724cd472b10",
   "metadata": {
    "tags": []
   },
   "outputs": [
    {
     "name": "stdout",
     "output_type": "stream",
     "text": [
      "../models/preprocessor.save -> models/preprocessor.save\n",
      "../models/model.onnx -> models/model.onnx\n"
     ]
    }
   ],
   "source": [
    "def upload_directory_to_s3(local_directory, s3_prefix):\n",
    "    for root, dirs, files in os.walk(local_directory):\n",
    "        for filename in files:\n",
    "            file_path = os.path.join(root, filename)\n",
    "            relative_path = os.path.relpath(file_path, local_directory)\n",
    "            s3_key = os.path.join(s3_prefix, relative_path)\n",
    "            print(f\"{file_path} -> {s3_key}\")\n",
    "            bucket.upload_file(file_path, s3_key)\n",
    "\n",
    "upload_directory_to_s3(working_folder, s3_folder)"
   ]
  },
  {
   "cell_type": "code",
   "execution_count": 5,
   "id": "5e670316-c203-470a-83b1-274ba65f0f67",
   "metadata": {
    "tags": []
   },
   "outputs": [
    {
     "name": "stdout",
     "output_type": "stream",
     "text": [
      "models/model.onnx\n",
      "models/preprocessor.save\n"
     ]
    }
   ],
   "source": [
    "def list_objects(prefix):\n",
    "    filter = bucket.objects.filter(Prefix=prefix)\n",
    "    for obj in filter.all():\n",
    "        print(obj.key)\n",
    "        \n",
    "list_objects(s3_folder)"
   ]
  },
  {
   "cell_type": "code",
   "execution_count": null,
   "id": "08d87333-a6a0-4de0-9e57-e9409777b151",
   "metadata": {},
   "outputs": [],
   "source": []
  }
 ],
 "metadata": {
  "kernelspec": {
   "display_name": "Python 3.9",
   "language": "python",
   "name": "python3"
  },
  "language_info": {
   "codemirror_mode": {
    "name": "ipython",
    "version": 3
   },
   "file_extension": ".py",
   "mimetype": "text/x-python",
   "name": "python",
   "nbconvert_exporter": "python",
   "pygments_lexer": "ipython3",
   "version": "3.9.16"
  }
 },
 "nbformat": 4,
 "nbformat_minor": 5
}
