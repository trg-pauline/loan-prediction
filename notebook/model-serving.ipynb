{
 "cells": [
  {
   "cell_type": "code",
   "execution_count": 2,
   "id": "9251f719-e06b-4aaa-98e0-ec2e2c8e70ae",
   "metadata": {
    "tags": []
   },
   "outputs": [
    {
     "name": "stdout",
     "output_type": "stream",
     "text": [
      "Requirement already satisfied: flask in /opt/app-root/lib/python3.9/site-packages (3.0.3)\n",
      "Requirement already satisfied: blinker>=1.6.2 in /opt/app-root/lib/python3.9/site-packages (from flask) (1.8.2)\n",
      "Requirement already satisfied: importlib-metadata>=3.6.0 in /opt/app-root/lib/python3.9/site-packages (from flask) (7.1.0)\n",
      "Requirement already satisfied: Jinja2>=3.1.2 in /opt/app-root/lib/python3.9/site-packages (from flask) (3.1.4)\n",
      "Requirement already satisfied: Werkzeug>=3.0.0 in /opt/app-root/lib/python3.9/site-packages (from flask) (3.0.4)\n",
      "Requirement already satisfied: itsdangerous>=2.1.2 in /opt/app-root/lib/python3.9/site-packages (from flask) (2.2.0)\n",
      "Requirement already satisfied: click>=8.1.3 in /opt/app-root/lib/python3.9/site-packages (from flask) (8.1.7)\n",
      "Requirement already satisfied: zipp>=0.5 in /opt/app-root/lib/python3.9/site-packages (from importlib-metadata>=3.6.0->flask) (3.18.2)\n",
      "Requirement already satisfied: MarkupSafe>=2.0 in /opt/app-root/lib/python3.9/site-packages (from Jinja2>=3.1.2->flask) (2.1.5)\n",
      "\n",
      "\u001b[1m[\u001b[0m\u001b[34;49mnotice\u001b[0m\u001b[1;39;49m]\u001b[0m\u001b[39;49m A new release of pip available: \u001b[0m\u001b[31;49m22.2.2\u001b[0m\u001b[39;49m -> \u001b[0m\u001b[32;49m24.2\u001b[0m\n",
      "\u001b[1m[\u001b[0m\u001b[34;49mnotice\u001b[0m\u001b[1;39;49m]\u001b[0m\u001b[39;49m To update, run: \u001b[0m\u001b[32;49mpip install --upgrade pip\u001b[0m\n",
      " * Serving Flask app '__main__'\n",
      " * Debug mode: on\n"
     ]
    },
    {
     "name": "stderr",
     "output_type": "stream",
     "text": [
      "WARNING: This is a development server. Do not use it in a production deployment. Use a production WSGI server instead.\n",
      " * Running on http://127.0.0.1:5001\n",
      "Press CTRL+C to quit\n",
      " * Restarting with watchdog (inotify)\n",
      "Traceback (most recent call last):\n",
      "  File \"/opt/app-root/lib64/python3.9/site-packages/ipykernel_launcher.py\", line 18, in <module>\n",
      "    app.launch_new_instance()\n",
      "  File \"/opt/app-root/lib/python3.9/site-packages/traitlets/config/application.py\", line 1074, in launch_instance\n",
      "    app.initialize(argv)\n",
      "  File \"/opt/app-root/lib/python3.9/site-packages/traitlets/config/application.py\", line 118, in inner\n",
      "    return method(app, *args, **kwargs)\n",
      "  File \"/opt/app-root/lib/python3.9/site-packages/ipykernel/kernelapp.py\", line 692, in initialize\n",
      "    self.init_sockets()\n",
      "  File \"/opt/app-root/lib/python3.9/site-packages/ipykernel/kernelapp.py\", line 331, in init_sockets\n",
      "    self.shell_port = self._bind_socket(self.shell_socket, self.shell_port)\n",
      "  File \"/opt/app-root/lib/python3.9/site-packages/ipykernel/kernelapp.py\", line 253, in _bind_socket\n",
      "    return self._try_bind_socket(s, port)\n",
      "  File \"/opt/app-root/lib/python3.9/site-packages/ipykernel/kernelapp.py\", line 229, in _try_bind_socket\n",
      "    s.bind(\"tcp://%s:%i\" % (self.ip, port))\n",
      "  File \"/opt/app-root/lib/python3.9/site-packages/zmq/sugar/socket.py\", line 311, in bind\n",
      "    super().bind(addr)\n",
      "  File \"_zmq.py\", line 898, in zmq.backend.cython._zmq.Socket.bind\n",
      "  File \"_zmq.py\", line 160, in zmq.backend.cython._zmq._check_rc\n",
      "zmq.error.ZMQError: Address already in use (addr='tcp://127.0.0.1:38329')\n"
     ]
    },
    {
     "ename": "SystemExit",
     "evalue": "1",
     "output_type": "error",
     "traceback": [
      "An exception has occurred, use %tb to see the full traceback.\n",
      "\u001b[0;31mSystemExit\u001b[0m\u001b[0;31m:\u001b[0m 1\n"
     ]
    },
    {
     "name": "stderr",
     "output_type": "stream",
     "text": [
      "/opt/app-root/lib64/python3.9/site-packages/IPython/core/interactiveshell.py:3558: UserWarning: To exit: use 'exit', 'quit', or Ctrl-D.\n",
      "  warn(\"To exit: use 'exit', 'quit', or Ctrl-D.\", stacklevel=1)\n"
     ]
    }
   ],
   "source": [
    "!pip install flask\n",
    "from flask import Flask, request, jsonify\n",
    "import onnxruntime as ort\n",
    "import numpy as np\n",
    "\n",
    "app = Flask(__name__)\n",
    "\n",
    "# Load the ONNX model\n",
    "model_path = \"../models/LRclassifierLoanPrediction.onnx\"\n",
    "ort_session = ort.InferenceSession(model_path)\n",
    "\n",
    "# Define the input name\n",
    "input_name = ort_session.get_inputs()[0].name\n",
    "\n",
    "@app.route('/predict', methods=['POST'])\n",
    "def predict():\n",
    "    # Get the JSON data from the request\n",
    "    data = request.json\n",
    "    \n",
    "    # Convert the JSON data to a NumPy array\n",
    "    input_data = np.array([\n",
    "        data[\"ApplicantIncome\"],\n",
    "        data[\"CoapplicantIncome\"],\n",
    "        data[\"LoanAmount\"],\n",
    "        data[\"Loan_Amount_Term\"],\n",
    "        data[\"Credit_History\"],\n",
    "        data[\"Gender\"],\n",
    "        data[\"Married\"],\n",
    "        data[\"Dependents_0\"],\n",
    "        data[\"Dependents_1\"],\n",
    "        data[\"Dependents_2\"],\n",
    "        data[\"Dependents_3+\"],\n",
    "        data[\"Education\"],\n",
    "        data[\"Self_Employed\"],\n",
    "        data[\"Property_Area_Rural\"],\n",
    "        data[\"Property_Area_Semiurban\"],\n",
    "        data[\"Property_Area_Urban\"]\n",
    "    ], dtype=np.float32).reshape(1, -1)  # Reshape to match the model's expected input shape\n",
    "\n",
    "    # Run the model\n",
    "    outputs = ort_session.run(None, {input_name: input_data})\n",
    "    \n",
    "    # Retrieve the prediction\n",
    "    prediction = outputs[0][0]\n",
    "    \n",
    "    # Convert the prediction to a human-readable format\n",
    "    loan_status = \"Accepted\" if prediction else \"Rejected\"\n",
    "    \n",
    "    # Return the result as a JSON response\n",
    "    return jsonify({\"Loan_Status\": loan_status})\n",
    "\n",
    "if __name__ == '__main__':\n",
    "    app.run(debug=True, port=5001)  # Change the port number"
   ]
  },
  {
   "cell_type": "code",
   "execution_count": null,
   "id": "7c75059d-216f-4d66-99f7-b677eeda7aa9",
   "metadata": {
    "tags": []
   },
   "outputs": [],
   "source": [
    "import requests\n",
    "import json\n",
    "\n",
    "# Define the URL of the Flask service\n",
    "url = \"http://127.0.0.1:38329/predict\"\n",
    "\n",
    "# Define the JSON payload\n",
    "payload = {\n",
    "    \"ApplicantIncome\": 76.478755,\n",
    "    \"CoapplicantIncome\": 0.0,\n",
    "    \"LoanAmount\": 12.100089,\n",
    "    \"Loan_Amount_Term\": 360.0,\n",
    "    \"Credit_History\": 1.0,\n",
    "    \"Gender\": True,\n",
    "    \"Married\": False,\n",
    "    \"Dependents_0\": True,\n",
    "    \"Dependents_1\": False,\n",
    "    \"Dependents_2\": False,\n",
    "    \"Dependents_3+\": False,\n",
    "    \"Education\": True,\n",
    "    \"Self_Employed\": False,\n",
    "    \"Property_Area_Rural\": False,\n",
    "    \"Property_Area_Semiurban\": False,\n",
    "    \"Property_Area_Urban\": True\n",
    "}\n",
    "\n",
    "# Send the POST request\n",
    "response = requests.post(url, json=payload)\n",
    "\n",
    "# Print the response\n",
    "print(\"Status Code:\", response.status_code)\n",
    "print(\"Response JSON:\", response.json())"
   ]
  },
  {
   "cell_type": "code",
   "execution_count": null,
   "id": "c59716fb-101a-4ab9-86a3-eb35e36e530c",
   "metadata": {},
   "outputs": [],
   "source": []
  }
 ],
 "metadata": {
  "kernelspec": {
   "display_name": "Python 3.9",
   "language": "python",
   "name": "python3"
  },
  "language_info": {
   "codemirror_mode": {
    "name": "ipython",
    "version": 3
   },
   "file_extension": ".py",
   "mimetype": "text/x-python",
   "name": "python",
   "nbconvert_exporter": "python",
   "pygments_lexer": "ipython3",
   "version": "3.9.16"
  }
 },
 "nbformat": 4,
 "nbformat_minor": 5
}
