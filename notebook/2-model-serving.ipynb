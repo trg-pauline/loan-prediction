{
 "cells": [
  {
   "cell_type": "code",
   "execution_count": null,
   "id": "df1f8a92-c725-4f26-b974-fb2ade8c5d1b",
   "metadata": {
    "tags": []
   },
   "outputs": [],
   "source": [
    "!pip install onnxruntime\n",
    "\n",
    "import joblib\n",
    "import onnx\n",
    "import onnxruntime as ort\n",
    "import pandas as pd\n",
    "import numpy as np\n",
    "\n",
    "# Hides all warnings\n",
    "import warnings\n",
    "warnings.filterwarnings(\"ignore\")"
   ]
  },
  {
   "cell_type": "code",
   "execution_count": null,
   "id": "38c458c7-dac7-41f8-b628-8eca382c67be",
   "metadata": {
    "tags": []
   },
   "outputs": [],
   "source": [
    "# Simulate data received from a request\n",
    "data = {\n",
    "    \"Loan_ID\": \"LP001002\",\n",
    "    \"Gender\": \"Male\",\n",
    "    \"Married\": \"No\",\n",
    "    \"Dependents\": \"0\",\n",
    "    \"Education\": \"Graduate\",\n",
    "    \"Self_Employed\": \"No\",\n",
    "    \"ApplicantIncome\": 5849,\n",
    "    \"CoapplicantIncome\": 0.0,\n",
    "    \"LoanAmount\": 120,\n",
    "    \"Loan_Amount_Term\": 360.0,\n",
    "    \"Credit_History\": 1.0,\n",
    "    \"Property_Area\": \"Urban\",\n",
    "}"
   ]
  },
  {
   "cell_type": "code",
   "execution_count": null,
   "id": "434cb84f-25bb-4193-822f-a440d0fefe6b",
   "metadata": {
    "tags": []
   },
   "outputs": [],
   "source": [
    "# Load prepocessor\n",
    "scaler_path = \"../models/preprocessor.save\"\n",
    "scaler = joblib.load(scaler_path)"
   ]
  },
  {
   "cell_type": "raw",
   "id": "de715497-040e-4753-9fe0-8b8c433c83ba",
   "metadata": {
    "tags": []
   },
   "source": [
    "# Load model\n",
    "model_path = \"../models/model.onnx\"\n",
    "onnx_model = onnx.load(model_path)\n",
    "onnx.checker.check_model(onnx_model)\n",
    "\n",
    "ort_session = ort.InferenceSession(model_path)"
   ]
  },
  {
   "cell_type": "code",
   "execution_count": null,
   "id": "3ddc892b-7a6c-4b07-9d73-b2e7c7acf6af",
   "metadata": {},
   "outputs": [],
   "source": [
    "# Wrapper for all preprocessing steps\n",
    "col_types = {'Gender':\"str\",\n",
    "             'Married':\"str\",\n",
    "             'Dependents':\"str\",\n",
    "             'Education':\"str\",\n",
    "             'Self_Employed':\"str\",\n",
    "             'ApplicantIncome':\"float\",\n",
    "             'CoapplicantIncome':\"float\",\n",
    "             'LoanAmount':\"float\",\n",
    "             'Loan_Amount_Term':\"float\",\n",
    "             'Credit_History':\"bool\",\n",
    "             'Property_Area':\"str\",\n",
    "             'Loan_Status':\"str\"}\n",
    "\n",
    "def transform(data):\n",
    "    df = pd.DataFrame.from_dict(data, orient='index').transpose()\n",
    "    \n",
    "    # Drop unecessary variables\n",
    "    if 'Loan_ID' in df.columns:\n",
    "        df = df.drop(['Loan_ID'], axis=1)\n",
    "    \n",
    "    # Set variable types\n",
    "    df = df.astype(dtype = {key: value for key, value in col_types.items() if key != 'Loan_Status'})\n",
    "    df = df.replace(\"nan\", None)\n",
    "    \n",
    "    # One-hot encoding of categorical variables\n",
    "    df['Gender'] = df['Gender'].replace({'Female': False, 'Male': True})\n",
    "    df['Married'] = df['Married'].replace({'No': False, 'Yes': True})\n",
    "    df['Education'] = df['Education'].replace({'Not Graduate': False, 'Graduate': True})\n",
    "    df['Self_Employed'] = df['Self_Employed'].replace({'No': False, 'Yes': True})\n",
    "    df['Dependents_0'] = df['Dependents'].apply(lambda x: True if x == '0' else False)\n",
    "    df['Dependents_1'] = df['Dependents'].apply(lambda x: True if x == '1' else False)\n",
    "    df['Dependents_2'] = df['Dependents'].apply(lambda x: True if x == '2' else False)\n",
    "    df['Dependents_3+'] = df['Dependents'].apply(lambda x: True if x == '3+' else False)\n",
    "    df = df.drop('Dependents', axis=1)\n",
    "    df['Property_Area_Rural'] = df['Property_Area'].apply(lambda x: True if x == 'Rural' else False)\n",
    "    df['Property_Area_Semiurban'] = df['Property_Area'].apply(lambda x: True if x == 'Semiurban' else False)\n",
    "    df['Property_Area_Urban'] = df['Property_Area'].apply(lambda x: True if x == 'Urban' else False)\n",
    "    df = df.drop('Property_Area', axis=1)\n",
    "    \n",
    "    # Data normalization over data aet\n",
    "    df = scaler.transform(df)\n",
    "\n",
    "    return df.astype(np.float32)"
   ]
  },
  {
   "cell_type": "raw",
   "id": "c76af30b-cf7b-4e21-a915-968814f9e49d",
   "metadata": {},
   "source": [
    "input_name = ort_session.get_inputs()[0].name\n",
    "outputs = ort_session.run(None, {input_name: transform(data)})\n",
    "predictions = outputs[0]\n",
    "\n",
    "print(\"Predictions:\", predictions)"
   ]
  },
  {
   "cell_type": "code",
   "execution_count": null,
   "id": "ffa449fb-99e0-4fd9-9ef0-22a67598cefc",
   "metadata": {},
   "outputs": [],
   "source": []
  },
  {
   "cell_type": "code",
   "execution_count": null,
   "id": "9d6c979f-15ac-4e55-85a8-9268fb77a18c",
   "metadata": {
    "tags": []
   },
   "outputs": [],
   "source": [
    "import requests\n",
    "import json"
   ]
  },
  {
   "cell_type": "code",
   "execution_count": null,
   "id": "73afe4fb-d050-4ea6-96f3-2d473d8ccbfa",
   "metadata": {
    "tags": []
   },
   "outputs": [],
   "source": [
    "# Define the URL of the Flask service\n",
    "url = \"http://127.0.0.1:12345/predict\""
   ]
  },
  {
   "cell_type": "code",
   "execution_count": null,
   "id": "10685046-af31-406a-83fe-7b564487b7a1",
   "metadata": {
    "tags": []
   },
   "outputs": [],
   "source": [
    "# Send the POST request\n",
    "input_name = \"input\"\n",
    "my_json = json.dumps({input_name: transform(data).tolist()})\n",
    "response = requests.post(url, json=my_json)"
   ]
  },
  {
   "cell_type": "code",
   "execution_count": null,
   "id": "7c75059d-216f-4d66-99f7-b677eeda7aa9",
   "metadata": {
    "tags": []
   },
   "outputs": [],
   "source": [
    "# Print the response\n",
    "print(\"Status Code:\", response.status_code)\n",
    "print(\"Response JSON:\", response.json())"
   ]
  },
  {
   "cell_type": "code",
   "execution_count": null,
   "id": "c59716fb-101a-4ab9-86a3-eb35e36e530c",
   "metadata": {},
   "outputs": [],
   "source": []
  }
 ],
 "metadata": {
  "kernelspec": {
   "display_name": "Python 3.9",
   "language": "python",
   "name": "python3"
  },
  "language_info": {
   "codemirror_mode": {
    "name": "ipython",
    "version": 3
   },
   "file_extension": ".py",
   "mimetype": "text/x-python",
   "name": "python",
   "nbconvert_exporter": "python",
   "pygments_lexer": "ipython3",
   "version": "3.9.16"
  }
 },
 "nbformat": 4,
 "nbformat_minor": 5
}
